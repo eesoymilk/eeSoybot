{
 "cells": [
  {
   "cell_type": "code",
   "execution_count": 1,
   "metadata": {},
   "outputs": [],
   "source": [
    "import json\n",
    "\n",
    "with open('emojiOutput.json') as f:\n",
    "    data = json.load(f)\n"
   ]
  },
  {
   "cell_type": "code",
   "execution_count": 10,
   "metadata": {},
   "outputs": [
    {
     "name": "stdout",
     "output_type": "stream",
     "text": [
      "{'date': '20210521', 'leftEmoji': '1fa84', 'rightEmoji': '1f600'}\n"
     ]
    }
   ],
   "source": [
    "from pprint import pprint\n",
    "\n",
    "e1 = '1fa84'\n",
    "e2 = '1f600'\n",
    "\n",
    "entry = next(\n",
    "    (\n",
    "        entry for entry in data[e1] \n",
    "        if entry['leftEmoji'] == e2 \n",
    "        or entry['rightEmoji'] == e2\n",
    "     ), \n",
    "    None\n",
    ")\n",
    "\n",
    "\n",
    "pprint(entry)"
   ]
  },
  {
   "cell_type": "code",
   "execution_count": 13,
   "metadata": {},
   "outputs": [],
   "source": [
    "import aiohttp\n",
    "\n",
    "root_url = 'https://www.gstatic.com/android/keyboard/emojikitchen'\n",
    "\n",
    "async def fetch_output(\n",
    "    cs: aiohttp.ClientSession,\n",
    "    left_emoji: str,\n",
    "    right_emoji: str,\n",
    "    date: str\n",
    "):\n",
    "    async with cs.get(\n",
    "        f'{root_url}/{date}/{left_emoji}/{left_emoji}_{right_emoji}.png'\n",
    "    ) as resp:\n",
    "        if resp.status == 200:\n",
    "            return resp.url\n",
    "        else:\n",
    "            raise"
   ]
  },
  {
   "cell_type": "code",
   "execution_count": 14,
   "metadata": {},
   "outputs": [
    {
     "name": "stdout",
     "output_type": "stream",
     "text": [
      "1fa84 1f600 20210521\n"
     ]
    },
    {
     "ename": "RuntimeError",
     "evalue": "No active exception to reraise",
     "output_type": "error",
     "traceback": [
      "\u001b[1;31m---------------------------------------------------------------------------\u001b[0m",
      "\u001b[1;31mRuntimeError\u001b[0m                              Traceback (most recent call last)",
      "Cell \u001b[1;32mIn[14], line 17\u001b[0m\n\u001b[0;32m     14\u001b[0m \u001b[39mprint\u001b[39m(left_emoji, right_emoji, date)\n\u001b[0;32m     16\u001b[0m \u001b[39masync\u001b[39;00m \u001b[39mwith\u001b[39;00m aiohttp\u001b[39m.\u001b[39mClientSession() \u001b[39mas\u001b[39;00m cs:\n\u001b[1;32m---> 17\u001b[0m     output_url \u001b[39m=\u001b[39m \u001b[39mawait\u001b[39;00m fetch_output(cs, left_emoji, right_emoji, date)\n\u001b[0;32m     19\u001b[0m \u001b[39mprint\u001b[39m(output_url)\n",
      "Cell \u001b[1;32mIn[13], line 17\u001b[0m, in \u001b[0;36mfetch_output\u001b[1;34m(cs, left_emoji, right_emoji, date)\u001b[0m\n\u001b[0;32m     15\u001b[0m     \u001b[39mreturn\u001b[39;00m resp\u001b[39m.\u001b[39murl\n\u001b[0;32m     16\u001b[0m \u001b[39melse\u001b[39;00m:\n\u001b[1;32m---> 17\u001b[0m     \u001b[39mraise\u001b[39;00m\n",
      "\u001b[1;31mRuntimeError\u001b[0m: No active exception to reraise"
     ]
    }
   ],
   "source": [
    "e1 = '1fa84'\n",
    "e2 = '1f600'\n",
    "\n",
    "entry = next(\n",
    "    (\n",
    "        entry for entry in data[e1] \n",
    "        if entry['leftEmoji'] == e2 \n",
    "        or entry['rightEmoji'] == e2\n",
    "     ), \n",
    "    None\n",
    ")\n",
    "\n",
    "left_emoji, right_emoji, date = entry.values()\n",
    "print(left_emoji, right_emoji, date)\n",
    "\n",
    "async with aiohttp.ClientSession() as cs:\n",
    "    output_url = await fetch_output(cs, left_emoji, right_emoji, date)\n",
    "    \n",
    "print(output_url)"
   ]
  }
 ],
 "metadata": {
  "kernelspec": {
   "display_name": "venv",
   "language": "python",
   "name": "python3"
  },
  "language_info": {
   "codemirror_mode": {
    "name": "ipython",
    "version": 3
   },
   "file_extension": ".py",
   "mimetype": "text/x-python",
   "name": "python",
   "nbconvert_exporter": "python",
   "pygments_lexer": "ipython3",
   "version": "3.11.0"
  },
  "orig_nbformat": 4
 },
 "nbformat": 4,
 "nbformat_minor": 2
}
