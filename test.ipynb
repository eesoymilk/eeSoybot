{
 "cells": [
  {
   "cell_type": "code",
   "execution_count": 2,
   "metadata": {},
   "outputs": [],
   "source": [
    "from pathlib import Path\n",
    "paths = [p for p in Path('./dictionaries').glob('*.json')]"
   ]
  },
  {
   "cell_type": "code",
   "execution_count": 6,
   "metadata": {},
   "outputs": [],
   "source": [
    "import json\n",
    "\n",
    "d = dict()\n",
    "\n",
    "for path in paths:\n",
    "    with open(path, 'r') as f:\n",
    "        d[path.stem] = json.load(f)\n"
   ]
  },
  {
   "cell_type": "code",
   "execution_count": 7,
   "metadata": {},
   "outputs": [
    {
     "name": "stdout",
     "output_type": "stream",
     "text": [
      "{'en-US': {'choice_name': {},\n",
      "           'command_description': {'echo_desc': 'Send a message anonymously'},\n",
      "           'command_name': {'echo': 'echo'},\n",
      "           'group_description': {},\n",
      "           'group_name': {},\n",
      "           'other': {},\n",
      "           'parameter_description': {'echo_msg_desc': 'The message to send'},\n",
      "           'parameter_name': {'echo_msg': 'message'}},\n",
      " 'zh-TW': {'choice_name': {},\n",
      "           'command_description': {'echo_desc': '用soybot匿名傳送訊息'},\n",
      "           'command_name': {'echo': '匿名發言'},\n",
      "           'group_description': {},\n",
      "           'group_name': {},\n",
      "           'other': {},\n",
      "           'parameter_description': {'echo_msg_desc': '內容'},\n",
      "           'parameter_name': {'echo_msg': '訊息'}}}\n"
     ]
    }
   ],
   "source": [
    "from pprint import pprint\n",
    "\n",
    "pprint(d)"
   ]
  },
  {
   "cell_type": "code",
   "execution_count": 4,
   "metadata": {},
   "outputs": [],
   "source": [
    "from urllib.parse import urljoin, urlencode\n",
    "\n",
    "from aiohttp import ClientSession\n",
    "\n",
    "BASE_URL = 'https://api.waifu.im/'\n",
    "\n",
    "async def fetch(\n",
    "    cs: ClientSession,\n",
    "    is_nsfw: bool = False,\n",
    "    tag: str = None\n",
    ") -> dict:\n",
    "    params = dict()\n",
    "    if is_nsfw:\n",
    "        params |= {'is_nsfw': 'true'}\n",
    "    if tag is not None:\n",
    "        params |= {'included_tags': tag}\n",
    "    url = f'{urljoin(BASE_URL, \"/search\")}?{urlencode(params)}'\n",
    "    print(url)\n",
    "    async with cs.get(url) as resp:\n",
    "        data = await resp.json()\n",
    "\n",
    "    image = data['images'][0]\n",
    "    return image"
   ]
  },
  {
   "cell_type": "code",
   "execution_count": 7,
   "metadata": {},
   "outputs": [
    {
     "name": "stderr",
     "output_type": "stream",
     "text": [
      "Unclosed client session\n",
      "client_session: <aiohttp.client.ClientSession object at 0x00000259CD3BF110>\n"
     ]
    },
    {
     "name": "stdout",
     "output_type": "stream",
     "text": [
      "https://api.waifu.im/search?is_nsfw=true\n",
      "{'artist': None,\n",
      " 'byte_size': 303857,\n",
      " 'dominant_color': '#7f5769',\n",
      " 'extension': '.jpeg',\n",
      " 'favorites': 2,\n",
      " 'height': 1807,\n",
      " 'image_id': 6172,\n",
      " 'is_nsfw': True,\n",
      " 'liked_at': None,\n",
      " 'preview_url': 'https://www.waifu.im/preview/6172/',\n",
      " 'signature': '98062b83db7be6b9',\n",
      " 'source': None,\n",
      " 'tags': [{'description': 'Slightly explicit sexual content. Show full to '\n",
      "                          \"partial nudity. Doesn't show any genital.\",\n",
      "           'is_nsfw': True,\n",
      "           'name': 'ecchi',\n",
      "           'tag_id': 2},\n",
      "          {'description': 'Any kind of erotic content, basically any nsfw '\n",
      "                          'image.',\n",
      "           'is_nsfw': True,\n",
      "           'name': 'ero',\n",
      "           'tag_id': 3},\n",
      "          {'description': 'Girls with large breasts',\n",
      "           'is_nsfw': False,\n",
      "           'name': 'oppai',\n",
      "           'tag_id': 7},\n",
      "          {'description': 'A female anime/manga character.',\n",
      "           'is_nsfw': False,\n",
      "           'name': 'waifu',\n",
      "           'tag_id': 12}],\n",
      " 'uploaded_at': '2021-11-02T11:16:19.048684Z',\n",
      " 'url': 'https://cdn.waifu.im/6172.jpeg',\n",
      " 'width': 1280}\n"
     ]
    }
   ],
   "source": [
    "import aiohttp\n",
    "from pprint import pprint\n",
    "\n",
    "cs = aiohttp.ClientSession()\n",
    "\n",
    "img = await fetch(cs, True)\n",
    "\n",
    "pprint(img)"
   ]
  }
 ],
 "metadata": {
  "kernelspec": {
   "display_name": "soybot",
   "language": "python",
   "name": "python3"
  },
  "language_info": {
   "codemirror_mode": {
    "name": "ipython",
    "version": 3
   },
   "file_extension": ".py",
   "mimetype": "text/x-python",
   "name": "python",
   "nbconvert_exporter": "python",
   "pygments_lexer": "ipython3",
   "version": "3.11.2"
  },
  "orig_nbformat": 4
 },
 "nbformat": 4,
 "nbformat_minor": 2
}
