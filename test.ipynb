{
 "cells": [
  {
   "cell_type": "code",
   "execution_count": 3,
   "metadata": {},
   "outputs": [
    {
     "data": {
      "text/plain": [
       "20"
      ]
     },
     "execution_count": 3,
     "metadata": {},
     "output_type": "execute_result"
    }
   ],
   "source": [
    "from emoji import emojize, demojize\n",
    "default_reactions = (\n",
    "    '1️⃣', \n",
    "    '2️⃣', \n",
    "    '3️⃣', \n",
    "    '4️⃣', \n",
    "    '5️⃣', \n",
    "    '6️⃣', \n",
    "    '7️⃣', \n",
    "    '8️⃣', \n",
    "    '9️⃣',\n",
    "    '🇦', \n",
    "    '🇧', \n",
    "    '🇨', \n",
    "    '🇩', \n",
    "    '🇪', \n",
    "    '🇫', \n",
    "    '🇬', \n",
    "    '🇭', \n",
    "    '🇮', \n",
    "    '🇯',\n",
    "    '🇰',\n",
    ")\n",
    "\n",
    "len(default_reactions)"
   ]
  },
  {
   "cell_type": "code",
   "execution_count": 4,
   "metadata": {},
   "outputs": [
    {
     "name": "stdout",
     "output_type": "stream",
     "text": [
      "C(name='reaction_poll')\n"
     ]
    }
   ],
   "source": [
    "from typing import NamedTuple\n",
    "\n",
    "command = (NamedTuple('Command', name=str))('reaction_poll')\n",
    "\n",
    "print(command)"
   ]
  }
 ],
 "metadata": {
  "kernelspec": {
   "display_name": "soybot",
   "language": "python",
   "name": "python3"
  },
  "language_info": {
   "codemirror_mode": {
    "name": "ipython",
    "version": 3
   },
   "file_extension": ".py",
   "mimetype": "text/x-python",
   "name": "python",
   "nbconvert_exporter": "python",
   "pygments_lexer": "ipython3",
   "version": "3.11.2"
  },
  "orig_nbformat": 4
 },
 "nbformat": 4,
 "nbformat_minor": 2
}
