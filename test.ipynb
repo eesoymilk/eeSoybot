{
 "cells": [
  {
   "cell_type": "code",
   "execution_count": 8,
   "metadata": {},
   "outputs": [
    {
     "name": "stdout",
     "output_type": "stream",
     "text": [
      "(UnicodeEmoji(❤️), UnicodeEmoji(✨))\n"
     ]
    }
   ],
   "source": [
    "from typing import Optional\n",
    "from emoji import emoji_list\n",
    "from utils.emoji_kitchen import EmojiKitchen\n",
    "\n",
    "class UnicodeEmoji:\n",
    "    __slots__ = ('emoji', 'unicode', 'prefixed')\n",
    "\n",
    "    def __init__(\n",
    "        self,\n",
    "        emoji: str,\n",
    "        unicode: Optional[str] = None,\n",
    "        prefixed: Optional[str] = None\n",
    "    ):\n",
    "        self.emoji = emoji\n",
    "        self.unicode = '-'.join(\n",
    "            [f'{ord(c):X}' for c in emoji]\n",
    "        ).lower() if unicode is None else unicode\n",
    "        self.prefixed = '-'.join(\n",
    "            f'u{part}' for part in self.unicode.split('-')\n",
    "        ) if prefixed is None else prefixed\n",
    "\n",
    "    @staticmethod\n",
    "    def from_unicode(unicode: str):\n",
    "        emoji = ''.join(chr(int(part, 16)) for part in unicode.split('-'))\n",
    "        return UnicodeEmoji(emoji, unicode)\n",
    "\n",
    "    def __repr__(self):\n",
    "        return f'{self.__class__.__name__}({self.emoji})'\n",
    "\n",
    "value = 'dasdwd ❤️dsws ! ✨ See t'\n",
    "\n",
    "emojis = tuple([UnicodeEmoji(e['emoji']) for e in emoji_list(value)])\n",
    "print(emojis)"
   ]
  },
  {
   "cell_type": "code",
   "execution_count": 7,
   "metadata": {},
   "outputs": [
    {
     "name": "stdout",
     "output_type": "stream",
     "text": [
      "(UnicodeEmoji(❤️), UnicodeEmoji(✨))\n"
     ]
    }
   ],
   "source": [
    "emojis_from_unicode = tuple([\n",
    "    UnicodeEmoji.from_unicode(e.unicode) for e in emojis\n",
    "])\n",
    "\n",
    "print(emojis_from_unicode)"
   ]
  },
  {
   "cell_type": "code",
   "execution_count": 2,
   "metadata": {},
   "outputs": [
    {
     "name": "stdout",
     "output_type": "stream",
     "text": [
      "len(outputs.keys())=557\n",
      "len(EmojiKitchen.SUPPORTED_EMOJIS)=557\n"
     ]
    }
   ],
   "source": [
    "import json\n",
    "\n",
    "with open(EmojiKitchen.OUTPUT_PATH) as f:\n",
    "    outputs = json.load(f)\n",
    "\n",
    "print(f'{len(outputs.keys())=}')\n",
    "print(f'{len(EmojiKitchen.SUPPORTED_EMOJIS)=}')"
   ]
  }
 ],
 "metadata": {
  "kernelspec": {
   "display_name": "soybot",
   "language": "python",
   "name": "python3"
  },
  "language_info": {
   "codemirror_mode": {
    "name": "ipython",
    "version": 3
   },
   "file_extension": ".py",
   "mimetype": "text/x-python",
   "name": "python",
   "nbconvert_exporter": "python",
   "pygments_lexer": "ipython3",
   "version": "3.11.2"
  },
  "orig_nbformat": 4
 },
 "nbformat": 4,
 "nbformat_minor": 2
}
