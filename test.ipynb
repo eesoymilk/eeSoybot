{
 "cells": [
  {
   "cell_type": "code",
   "execution_count": 2,
   "metadata": {},
   "outputs": [],
   "source": [
    "from pathlib import Path\n",
    "paths = [p for p in Path('./dictionaries').glob('*.json')]"
   ]
  },
  {
   "cell_type": "code",
   "execution_count": 6,
   "metadata": {},
   "outputs": [],
   "source": [
    "import json\n",
    "\n",
    "d = dict()\n",
    "\n",
    "for path in paths:\n",
    "    with open(path, 'r') as f:\n",
    "        d[path.stem] = json.load(f)\n"
   ]
  },
  {
   "cell_type": "code",
   "execution_count": 7,
   "metadata": {},
   "outputs": [
    {
     "name": "stdout",
     "output_type": "stream",
     "text": [
      "{'en-US': {'choice_name': {},\n",
      "           'command_description': {'echo_desc': 'Send a message anonymously'},\n",
      "           'command_name': {'echo': 'echo'},\n",
      "           'group_description': {},\n",
      "           'group_name': {},\n",
      "           'other': {},\n",
      "           'parameter_description': {'echo_msg_desc': 'The message to send'},\n",
      "           'parameter_name': {'echo_msg': 'message'}},\n",
      " 'zh-TW': {'choice_name': {},\n",
      "           'command_description': {'echo_desc': '用soybot匿名傳送訊息'},\n",
      "           'command_name': {'echo': '匿名發言'},\n",
      "           'group_description': {},\n",
      "           'group_name': {},\n",
      "           'other': {},\n",
      "           'parameter_description': {'echo_msg_desc': '內容'},\n",
      "           'parameter_name': {'echo_msg': '訊息'}}}\n"
     ]
    }
   ],
   "source": [
    "from pprint import pprint\n",
    "\n",
    "pprint(d)"
   ]
  }
 ],
 "metadata": {
  "kernelspec": {
   "display_name": "soybot",
   "language": "python",
   "name": "python3"
  },
  "language_info": {
   "codemirror_mode": {
    "name": "ipython",
    "version": 3
   },
   "file_extension": ".py",
   "mimetype": "text/x-python",
   "name": "python",
   "nbconvert_exporter": "python",
   "pygments_lexer": "ipython3",
   "version": "3.11.2"
  },
  "orig_nbformat": 4
 },
 "nbformat": 4,
 "nbformat_minor": 2
}
